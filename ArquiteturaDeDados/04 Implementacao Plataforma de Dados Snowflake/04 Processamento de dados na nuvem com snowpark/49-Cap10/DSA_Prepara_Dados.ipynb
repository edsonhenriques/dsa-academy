{
 "metadata": {
  "kernelspec": {
   "display_name": "Python 3 (ipykernel)",
   "language": "python",
   "name": "python3"
  },
  "language_info": {
   "codemirror_mode": {
    "name": "ipython",
    "version": 3
   },
   "file_extension": ".py",
   "mimetype": "text/x-python",
   "name": "python",
   "nbconvert_exporter": "python",
   "pygments_lexer": "ipython3",
   "version": "3.12.7"
  },
  "lastEditStatus": {
   "notebookId": "rbn6pz7wla6mofriyou7",
   "authorId": "5318304106765",
   "authorName": "DANIELMCLOUD",
   "authorEmail": "danielmcloud@dsacademy.com.br",
   "sessionId": "a9271465-0fb5-4ab7-bdfb-d82abcd06986",
   "lastEditTime": 1738026316813
  }
 },
 "nbformat_minor": 5,
 "nbformat": 4,
 "cells": [
  {
   "cell_type": "markdown",
   "id": "fa55fa1d-70da-4d84-8fa1-694df8810bb1",
   "metadata": {
    "name": "DSA01",
    "collapsed": false
   },
   "source": "## Data Science Academy\n\n### Projeto e Implementação de Plataforma de Dados com Snowflake\n\n### Lab 5\n\n### Automatizando Staging Para Pipeline de Machine Learning com Snowpark"
  },
  {
   "cell_type": "markdown",
   "id": "8fa0c088-ee66-431e-a4a5-10064cc4d7c8",
   "metadata": {
    "name": "DSA02"
   },
   "source": [
    "## Carregando Snowpark e Outros Pacotes"
   ]
  },
  {
   "cell_type": "code",
   "execution_count": null,
   "id": "6813277c-2989-4031-981c-6f5a12dc6cb4",
   "metadata": {
    "name": "DSA03",
    "language": "python",
    "codeCollapsed": false,
    "collapsed": false
   },
   "outputs": [],
   "source": [
    "# Imports\n",
    "import os\n",
    "import pandas as pd\n",
    "import numpy as np\n",
    "import snowflake.connector\n",
    "from snowflake.snowpark.session import Session\n",
    "from snowflake.snowpark.types import (IntegerType,\n",
    "                                      StringType,\n",
    "                                      StructField,\n",
    "                                      StructType,\n",
    "                                      DateType,\n",
    "                                      BooleanType,\n",
    "                                      DecimalType,\n",
    "                                      FloatType,\n",
    "                                      TimestampType,\n",
    "                                      VariantType,\n",
    "                                      ArrayType)\n",
    "from snowflake.snowpark.context import get_active_session"
   ]
  },
  {
   "cell_type": "markdown",
   "id": "d2dc07bb-adf8-479c-b36a-aec91ec5cccb",
   "metadata": {
    "name": "DSA04"
   },
   "source": [
    "## Carregando o Dataset e Fazendo o Split"
   ]
  },
  {
   "cell_type": "code",
   "execution_count": null,
   "id": "3ec15be6-0974-4f38-8bea-872524940872",
   "metadata": {
    "name": "DSA05",
    "language": "python",
    "collapsed": false
   },
   "outputs": [],
   "source": [
    "# Carrega o dataset\n",
    "df_dsa = pd.read_csv(\"dataset.csv\")"
   ]
  },
  {
   "cell_type": "code",
   "execution_count": null,
   "id": "94c97a13-374b-4b41-9e59-3f475f1223b6",
   "metadata": {
    "name": "DSA06",
    "language": "python",
    "collapsed": false
   },
   "outputs": [],
   "source": "# Split para criar índices e dividir os dados\nindices = np.random.permutation(len(df_dsa))\nsplit1 = int(len(df_dsa) / 3)\nsplit2 = int(2 * len(df_dsa) / 3)"
  },
  {
   "cell_type": "code",
   "execution_count": null,
   "id": "a6dd1c86-e0d4-401e-a57f-31245f3960a1",
   "metadata": {
    "name": "DSA07",
    "language": "python",
    "collapsed": false
   },
   "outputs": [],
   "source": [
    "# Usa os splits para dividir o dataset em 3 partes\n",
    "df1 = df_dsa.iloc[indices[:split1]]\n",
    "df2 = df_dsa.iloc[indices[split1:split2]]\n",
    "df3 = df_dsa.iloc[indices[split2:]]"
   ]
  },
  {
   "cell_type": "code",
   "execution_count": null,
   "id": "d8449235-5dcf-4115-8e4c-63a8c0bc0d7a",
   "metadata": {
    "name": "DSA08",
    "language": "python",
    "collapsed": false
   },
   "outputs": [],
   "source": [
    "# Salva os datasets\n",
    "df1.to_csv(\"dataset1.csv\", index = False)\n",
    "df2.to_csv(\"dataset2.csv\", index = False)\n",
    "df3.to_csv(\"dataset3.csv\", index = False)"
   ]
  },
  {
   "cell_type": "markdown",
   "id": "0b52e581-eeac-42f2-827d-80352ceee5fa",
   "metadata": {
    "name": "DSA09"
   },
   "source": [
    "## Criando a Sessão Snowpark e o Banco de Dados"
   ]
  },
  {
   "cell_type": "code",
   "execution_count": null,
   "id": "7dacce68-4ffe-45ab-a561-be372e22920a",
   "metadata": {
    "name": "DSA10",
    "language": "python",
    "collapsed": false
   },
   "outputs": [],
   "source": "# Cria a sessão Snowpark\nsession = get_active_session()"
  },
  {
   "cell_type": "code",
   "execution_count": null,
   "id": "2462e6dc-270d-4db5-bbce-43b937761ee2",
   "metadata": {
    "name": "DSA11",
    "language": "python",
    "collapsed": false
   },
   "outputs": [],
   "source": "# Cria o banco de dados que vai receber os stages\nsession.sql(\"CREATE OR REPLACE DATABASE Database02\").collect()"
  },
  {
   "cell_type": "code",
   "execution_count": null,
   "id": "0496787a-3d7e-4f98-8b93-d370a683c3f9",
   "metadata": {
    "name": "DSA12",
    "language": "python",
    "collapsed": false
   },
   "outputs": [],
   "source": "# Define o schema a ser usado\nsession.sql(\"USE SCHEMA PUBLIC;\").collect()"
  },
  {
   "cell_type": "code",
   "execution_count": null,
   "id": "9707bb58-91fb-43da-85ee-64dea355e03c",
   "metadata": {
    "name": "DSA13",
    "language": "python",
    "collapsed": false
   },
   "outputs": [],
   "source": "# Verifica as informações\nsession.sql(\"SELECT current_warehouse(), current_database(), current_schema(), current_user(), current_role()\").collect()"
  },
  {
   "cell_type": "markdown",
   "id": "581a6143-bee2-4ec7-b5f9-8e808be42726",
   "metadata": {
    "name": "DSA14"
   },
   "source": [
    "## Criando os Stages"
   ]
  },
  {
   "cell_type": "code",
   "execution_count": null,
   "id": "b5d3676c-640f-4ea4-a0bb-5d3dc8863363",
   "metadata": {
    "name": "DSA15",
    "language": "python",
    "collapsed": false
   },
   "outputs": [],
   "source": "# Define os nomes das áreas de stage\nload_data_stage = \"LOAD_DATA_STAGE\"\nmodel_stage = \"MODEL_STAGE\"\nfunction_stage = \"FUNCTION_STAGE\"\npackage_stage = \"PACKAGE_STAGE\""
  },
  {
   "cell_type": "code",
   "execution_count": null,
   "id": "906fd643-b28e-4a35-a492-6b9adf2fff94",
   "metadata": {
    "name": "DSA16",
    "language": "python",
    "collapsed": false
   },
   "outputs": [],
   "source": "# Cria os stages\nsession.sql(f\"CREATE OR REPLACE STAGE {load_data_stage}\").collect()\nsession.sql(f\"CREATE OR REPLACE STAGE {model_stage}\").collect()\nsession.sql(f\"CREATE OR REPLACE STAGE {function_stage}\").collect()\nsession.sql(f\"CREATE OR REPLACE STAGE {package_stage}\").collect()"
  },
  {
   "cell_type": "code",
   "execution_count": null,
   "id": "7184860c-f9cd-4485-af7d-22377565fe8d",
   "metadata": {
    "name": "DSA17",
    "language": "python",
    "collapsed": false
   },
   "outputs": [],
   "source": "# Cria uma sequence para numeração\nsession.sql(\"CREATE OR REPLACE SEQUENCE MODEL_SEQ START WITH 1 INCREMENT BY 1;\").collect()"
  },
  {
   "cell_type": "markdown",
   "id": "9c4766d9-ec00-4cdd-b122-f1e26d10159b",
   "metadata": {
    "name": "DSA18"
   },
   "source": [
    "## Carregando os Dados no Stage"
   ]
  },
  {
   "cell_type": "code",
   "execution_count": null,
   "id": "3483f272-9f5d-4eaf-af72-af486f7342e7",
   "metadata": {
    "name": "DSA19",
    "language": "python",
    "collapsed": false
   },
   "outputs": [],
   "source": "# Nomes dos arquivos\nfile_path1 = (\"dataset1.csv\")\nfile_path2 = (\"dataset2.csv\")\nfile_path3 = (\"dataset3.csv\")"
  },
  {
   "cell_type": "code",
   "execution_count": null,
   "id": "7ed051bd-57c5-40b2-9275-713ddeafb823",
   "metadata": {
    "name": "DSA20",
    "language": "python",
    "collapsed": false
   },
   "outputs": [],
   "source": "# Coloca os arquivos na área de stage de dados\nsession.file.put(file_path1, f\"@{load_data_stage}\")\nsession.file.put(file_path2, f\"@{load_data_stage}\")\nsession.file.put(file_path3, f\"@{load_data_stage}\")"
  },
  {
   "cell_type": "code",
   "execution_count": null,
   "id": "c20a2506-089f-43b9-9b4c-380a2e2c0bfa",
   "metadata": {
    "name": "DSA21",
    "language": "python",
    "collapsed": false
   },
   "outputs": [],
   "source": "# Lista o conteúdo da área de stage de dados\nfiles = session.sql(f\"LIST @{load_data_stage}\").collect()"
  },
  {
   "cell_type": "code",
   "execution_count": null,
   "id": "2187d345-5b0f-4a9b-9826-2f267277a56c",
   "metadata": {
    "name": "DSA22",
    "language": "python",
    "collapsed": false
   },
   "outputs": [],
   "source": "# Loop\nfor file in files:\n    print(file)"
  },
  {
   "cell_type": "markdown",
   "id": "594b8c0b-3471-4ed6-b8e7-397c162c4500",
   "metadata": {
    "name": "DSA23",
    "collapsed": false
   },
   "source": [
    "## Criando Tabela Para Detalhes do Treinamento de Modelos"
   ]
  },
  {
   "cell_type": "code",
   "execution_count": null,
   "id": "5469f188-c144-439f-b7c7-15600f9efa01",
   "metadata": {
    "name": "DSA24",
    "language": "python",
    "collapsed": false
   },
   "outputs": [],
   "source": "# Schema para os metadados\nschema_log = StructType(\n    [\n        StructField(\"training_date\", TimestampType()),\n        StructField(\"model_id\", StringType()),\n        StructField(\"model_name\", StringType()),\n        StructField(\"optimization\", BooleanType()),\n        StructField(\"training_table\", StringType()),\n        StructField(\"feature_columns\", ArrayType(StringType())),\n        StructField(\"accuracy\", FloatType()),\n        StructField(\"precision\", FloatType()),\n        StructField(\"recall\", FloatType()),\n        StructField(\"f1_score\", FloatType()),\n        StructField(\"auc_roc\", FloatType()),\n        StructField(\"TN\", IntegerType()),\n        StructField(\"FP\", IntegerType()),\n        StructField(\"FN\", IntegerType()),\n        StructField(\"TP\", IntegerType()),\n    ]\n)"
  },
  {
   "cell_type": "code",
   "execution_count": null,
   "id": "67eb5395-e3cc-45b7-941f-2fe27acc8c24",
   "metadata": {
    "name": "DSA25",
    "language": "python",
    "collapsed": false
   },
   "outputs": [],
   "source": "# Cria o dataframe a partir do schema\ndf_log = session.create_dataframe([], schema = schema_log)"
  },
  {
   "cell_type": "code",
   "execution_count": null,
   "id": "196255d8-3166-47cf-86bf-1f438592acc3",
   "metadata": {
    "name": "DSA26",
    "language": "python",
    "collapsed": false
   },
   "outputs": [],
   "source": [
    "df_log.write.mode(\"overwrite\").save_as_table(\"MODEL_TRAINING_INFO\")"
   ]
  },
  {
   "cell_type": "markdown",
   "id": "1743713b-170a-4580-900e-e4248da507b8",
   "metadata": {
    "name": "DSA27"
   },
   "source": [
    "## Criando Tabela Para Resultados da Inferência"
   ]
  },
  {
   "cell_type": "code",
   "execution_count": null,
   "id": "62172ee3-5507-4d04-8e4f-6b9ac65e1037",
   "metadata": {
    "name": "DSA28",
    "language": "python",
    "collapsed": false
   },
   "outputs": [],
   "source": "# Define o schema\nschema_inference = StructType(\n    [\n        StructField(\"inference_date\", TimestampType()),\n        StructField(\"model_id\", StringType()),\n        StructField(\"training_table\", StringType()),\n        StructField(\"test_table\", StringType()),\n        StructField(\"accuracy\", FloatType()),\n        StructField(\"precision\", FloatType()),\n        StructField(\"recall\", FloatType()),\n        StructField(\"f1_score\", FloatType()),\n        StructField(\"auc_roc\", FloatType()),\n        StructField(\"TN\", IntegerType()),\n        StructField(\"FP\", IntegerType()),\n        StructField(\"FN\", IntegerType()),\n        StructField(\"TP\", IntegerType()),\n    ]\n)"
  },
  {
   "cell_type": "code",
   "execution_count": null,
   "id": "4dde8146-92f5-48f5-bbaf-cc25e729a301",
   "metadata": {
    "name": "DSA29",
    "language": "python",
    "collapsed": false
   },
   "outputs": [],
   "source": "# Cria o dataframe\ndf_inference = session.create_dataframe([], schema = schema_inference)"
  },
  {
   "cell_type": "code",
   "execution_count": null,
   "id": "fede2b65-8008-41a0-b8ce-6f988366b78e",
   "metadata": {
    "name": "DSA30",
    "language": "python",
    "collapsed": false
   },
   "outputs": [],
   "source": "# Salva o dataframe como tabela\ndf_inference.write.mode(\"overwrite\").save_as_table(\"INFERENCE_RESULTS\")"
  },
  {
   "cell_type": "markdown",
   "id": "1896c097-48f5-4c98-aedb-c0cad09a7479",
   "metadata": {
    "name": "DSA31"
   },
   "source": [
    "## Criando Tabela Para Model Catalog"
   ]
  },
  {
   "cell_type": "code",
   "execution_count": null,
   "id": "2fc8875c-f2ca-467f-ae44-1c386fd8b511",
   "metadata": {
    "name": "DSA32",
    "language": "python",
    "collapsed": false
   },
   "outputs": [],
   "source": "# Cria um objeto do tipo struct\nschema_model = StructType([StructField(\"model_name\", StringType(), True)])"
  },
  {
   "cell_type": "code",
   "execution_count": null,
   "id": "29fda98f-1846-46d1-ba81-08766e8a88b2",
   "metadata": {
    "name": "DSA33",
    "language": "python",
    "collapsed": false
   },
   "outputs": [],
   "source": "# Nomes dos modelos que serão criados\nmodel_names = [[\"Random Forest\"], \n               [\"XGBoost\"], \n               [\"K-Nearest Neighbors\"], \n               [\"Support Vector Machine\"]]"
  },
  {
   "cell_type": "code",
   "execution_count": null,
   "id": "d2a2bdc8-9195-4aca-b482-8453f7eecdb2",
   "metadata": {
    "name": "DSA34",
    "language": "python",
    "collapsed": false
   },
   "outputs": [],
   "source": "# Cria o dataframe\ndf_models_table = session.create_dataframe(model_names, schema = schema_model)"
  },
  {
   "cell_type": "code",
   "execution_count": null,
   "id": "96a376a8-d226-48ef-b20f-d2b620f93431",
   "metadata": {
    "name": "DSA35",
    "language": "python",
    "collapsed": false
   },
   "outputs": [],
   "source": "# Salva o dataframe como tabela\ndf_models_table.write.mode(\"overwrite\").save_as_table(\"MODEL_CATALOG\")"
  },
  {
   "cell_type": "markdown",
   "id": "1c7f88bf-a8f6-421b-a817-ef1ff1e4a792",
   "metadata": {
    "name": "DSA36"
   },
   "source": [
    "## Testando o Processo de Carga de Dados"
   ]
  },
  {
   "cell_type": "code",
   "execution_count": null,
   "id": "589fe388-a181-4d40-9a32-47486f0a0cce",
   "metadata": {
    "name": "DSA37",
    "language": "python",
    "collapsed": false
   },
   "outputs": [],
   "source": "# Define o schema\nschema = StructType(\n    [\n        StructField(\"age\", IntegerType()),\n        StructField(\"sex\", IntegerType()),\n        StructField(\"cp\", IntegerType()),\n        StructField(\"trestbps\", DecimalType()),\n        StructField(\"chol\", IntegerType()),\n        StructField(\"fbs\", DecimalType()),\n        StructField(\"restecg\", DecimalType()),\n        StructField(\"thalach\", DecimalType()),\n        StructField(\"exang\", DecimalType()),\n        StructField(\"oldpeak\", DecimalType()),\n        StructField(\"slope\", DecimalType()),\n        StructField(\"ca\", DecimalType()),\n        StructField(\"thal\", IntegerType()),\n        StructField(\"target\", IntegerType()),\n    ]\n)"
  },
  {
   "cell_type": "code",
   "execution_count": null,
   "id": "318e855b-10f6-4e2c-a9d0-e98ec3431176",
   "metadata": {
    "name": "DSA38",
    "language": "python",
    "collapsed": false
   },
   "outputs": [],
   "source": "# Variáveis com nome de arquivo e tabela\nfile_name = \"dataset1.csv\"  \ntable_name = \"TEST_TABLE\""
  },
  {
   "cell_type": "code",
   "execution_count": null,
   "id": "4a45fb32-6ca1-4394-9891-129ff6455dc9",
   "metadata": {
    "name": "DSA39",
    "language": "python",
    "collapsed": false
   },
   "outputs": [],
   "source": "# Define snowflake dataframe\ndf_dsa_dados = (\n    session.read.schema(schema)\n    .options({\"FIELD_DELIMITER\": \",\", \"SKIP_HEADER\": 1})\n    .csv(f\"@{load_data_stage}/{file_name}\")\n)"
  },
  {
   "cell_type": "code",
   "execution_count": null,
   "id": "56079def-3d5c-4f51-8eb8-e7efe9f57d54",
   "metadata": {
    "name": "DSA40",
    "language": "python",
    "collapsed": false
   },
   "outputs": [],
   "source": "df_dsa_dados.show(5)"
  },
  {
   "cell_type": "code",
   "execution_count": null,
   "id": "0ce6fdec-cbcf-4885-8a76-0f64c2536976",
   "metadata": {
    "name": "DSA41",
    "language": "python",
    "collapsed": false
   },
   "outputs": [],
   "source": "# Carrega os dados na tabela\ncopied_into_result = df_dsa_dados.copy_into_table(table_name, \n                                                  force = True, \n                                                  on_error = \"CONTINUE\")"
  },
  {
   "cell_type": "code",
   "execution_count": null,
   "id": "e49a52ce-bd86-4550-8ef4-26927ac7e125",
   "metadata": {
    "name": "DSA42",
    "language": "python",
    "collapsed": false
   },
   "outputs": [],
   "source": "# Cria o dataframe\ndf_dsa_dados_teste = session.table(table_name)"
  },
  {
   "cell_type": "code",
   "execution_count": null,
   "id": "113c5dc0-389d-4cc3-8ab2-a7dc7f865c6a",
   "metadata": {
    "name": "DSA43",
    "language": "python",
    "collapsed": false
   },
   "outputs": [],
   "source": "# Lista o conteúdo como dataframe do pandas\ndf_dsa_dados_teste.limit(5).to_pandas()"
  },
  {
   "cell_type": "markdown",
   "id": "3362de5d-6edd-425f-aecd-2c1984192b42",
   "metadata": {
    "name": "DSA44",
    "collapsed": false
   },
   "source": [
    "## Automatizando o Processo de Carga de Dados"
   ]
  },
  {
   "cell_type": "code",
   "execution_count": null,
   "id": "9cd9b1dd-830b-41ae-a867-4eabd5465b61",
   "metadata": {
    "name": "DSA45",
    "language": "python",
    "collapsed": false
   },
   "outputs": [],
   "source": "# Função de automação\ndef dsa_carrega_dados(session: Session, file_name: str, table_name: str) -> str:\n\n    # Imports para garantir portabilidade\n    from snowflake.snowpark.types import (StructType, StructField, IntegerType, DecimalType)\n\n    # Schema para os dados\n    schema_heart = StructType(\n        [\n            StructField(\"age\", IntegerType()),\n            StructField(\"sex\", IntegerType()),\n            StructField(\"cp\", IntegerType()),\n            StructField(\"trestbps\", DecimalType(10, 2)),\n            StructField(\"chol\", IntegerType()),\n            StructField(\"fbs\", DecimalType(10, 2)),\n            StructField(\"restecg\", DecimalType(10, 2)),\n            StructField(\"thalach\", DecimalType(10, 2)),\n            StructField(\"exang\", DecimalType(10, 2)),\n            StructField(\"oldpeak\", DecimalType(10, 2)),\n            StructField(\"slope\", DecimalType(10, 2)),\n            StructField(\"ca\", DecimalType(10, 2)),\n            StructField(\"thal\", IntegerType()),\n            StructField(\"target\", IntegerType()),\n        ]\n    )\n\n    try:\n\n        # Lê o arquivo e carrega na tabela\n        session.read.option(\"FIELD_DELIMITER\", \",\").option(\"SKIP_HEADER\", 1).option(\n            \"ON_ERROR\", \"CONTINUE\"\n        ).schema(schema_heart).csv(file_name).copy_into_table(table_name)\n\n        return f\"{file_name} carregado com sucesso na tabela '{table_name}'\"\n\n    except Exception as e:\n        return f\"Erro ao carregar os dados na tabela '{table_name}': {str(e)}\""
  },
  {
   "cell_type": "code",
   "execution_count": null,
   "id": "0316c4f4-e03b-46a6-a808-abe00e1855f2",
   "metadata": {
    "name": "DSA46",
    "language": "python",
    "collapsed": false
   },
   "outputs": [],
   "source": "# Variáveis para tabela de destino e arquivo\nfile_name = \"@load_data_stage/dataset2.csv\"  \ntable_name = \"TEST_TABLE2\""
  },
  {
   "cell_type": "code",
   "execution_count": null,
   "id": "73bef5d2-9c86-4ac4-b281-1d486f5fa949",
   "metadata": {
    "name": "DSA47",
    "language": "python",
    "collapsed": false
   },
   "outputs": [],
   "source": "# Executa a função de forma manual\ndsa_carrega_dados(session, file_name, table_name)"
  },
  {
   "cell_type": "code",
   "execution_count": null,
   "id": "7bb42af0-46e2-4463-8e4f-d593c24f2673",
   "metadata": {
    "name": "DSA48",
    "language": "python",
    "collapsed": false
   },
   "outputs": [],
   "source": "# Cria o dataframe\ndf_dsa_dados_teste = session.table(table_name)"
  },
  {
   "cell_type": "code",
   "execution_count": null,
   "id": "b0ad85f4-3e1f-48dd-854e-e3516abda4dc",
   "metadata": {
    "name": "DSA49",
    "language": "python",
    "collapsed": false
   },
   "outputs": [],
   "source": "# Lista o conteúdo como dataframe do pandas\ndf_dsa_dados_teste.limit(5).to_pandas()"
  },
  {
   "cell_type": "markdown",
   "id": "637132cc-de0e-4842-9881-81b96177daa8",
   "metadata": {
    "name": "DSA50"
   },
   "source": [
    "## Registrando a Stored Procedure Para Automação"
   ]
  },
  {
   "cell_type": "code",
   "execution_count": null,
   "id": "0420d87b-38f6-4e80-acf3-34692f29c6bf",
   "metadata": {
    "name": "DSA51",
    "language": "python"
   },
   "outputs": [],
   "source": "# Registra a função como stored procedure\nsession.sproc.register(func = dsa_carrega_dados,\n                       name = \"proc_dsa_carrega_dados\",\n                       packages = [\"snowflake-snowpark-python\"],\n                       is_permanent = True,\n                       stage_location = f\"@{function_stage}\",\n                       replace = True)"
  },
  {
   "cell_type": "code",
   "execution_count": null,
   "id": "cc50c405-c4b3-495b-a23e-c30d204e8035",
   "metadata": {
    "name": "DSA52",
    "language": "python"
   },
   "outputs": [],
   "source": "# Executa a função para cada arquivo\nsession.call(\"proc_dsa_carrega_dados\", f\"@{load_data_stage}/dataset1.csv\", \"DATA_TABLE_1\")\nsession.call(\"proc_dsa_carrega_dados\", f\"@{load_data_stage}/dataset2.csv\", \"DATA_TABLE_2\")\nsession.call(\"proc_dsa_carrega_dados\", f\"@{load_data_stage}/dataset3.csv\", \"DATA_TABLE_3\")"
  },
  {
   "cell_type": "code",
   "execution_count": null,
   "id": "633bec04-5a9b-44b5-ac9c-e7fb93c1240a",
   "metadata": {
    "name": "DSA53",
    "language": "python"
   },
   "outputs": [],
   "source": "# Drop das tabelas que não precisamos mais\nsession.sql(f\"DROP TABLE IF EXISTS TEST_TABLE\").collect()\nsession.sql(f\"DROP TABLE IF EXISTS TEST_TABLE2\").collect()"
  },
  {
   "cell_type": "markdown",
   "id": "668ba918-af38-4972-8f99-a4cc52c6ee78",
   "metadata": {
    "name": "DSA54"
   },
   "source": [
    "# Fim"
   ]
  }
 ]
}