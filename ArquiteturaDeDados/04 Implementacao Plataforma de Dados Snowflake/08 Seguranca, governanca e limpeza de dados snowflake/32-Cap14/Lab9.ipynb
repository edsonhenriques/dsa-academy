{
 "metadata": {
  "kernelspec": {
   "display_name": "Python 3 (ipykernel)",
   "language": "python",
   "name": "python3"
  },
  "language_info": {
   "codemirror_mode": {
    "name": "ipython",
    "version": 3
   },
   "file_extension": ".py",
   "mimetype": "text/x-python",
   "name": "python",
   "nbconvert_exporter": "python",
   "pygments_lexer": "ipython3",
   "version": "3.12.7"
  },
  "lastEditStatus": {
   "notebookId": "z25prlrhepiqy3wgrsld",
   "authorId": "5032554956704",
   "authorName": "DANIELMWEBDSA",
   "authorEmail": "danielmwebdsa@gmail.com",
   "sessionId": "27c7aa99-281a-46ea-92aa-337d5899e8a7",
   "lastEditTime": 1741200615078
  }
 },
 "nbformat_minor": 5,
 "nbformat": 4,
 "cells": [
  {
   "cell_type": "markdown",
   "id": "a82895be-0312-40bc-bc91-dadc5b377e7e",
   "metadata": {
    "name": "DSA01"
   },
   "source": [
    "## Data Science Academy\n",
    "\n",
    "### Projeto e Implementação de Plataforma de Dados com Snowflake\n",
    "\n",
    "### Lab 9\n",
    "\n",
    "### Implementando Uma Sala de Limpeza de Dados (Data Clean Room) Para Machine Learning"
   ]
  },
  {
   "cell_type": "markdown",
   "id": "25849ddc-968f-4fbd-bf1b-e0667e48e8a2",
   "metadata": {
    "name": "DSA02"
   },
   "source": [
    "### Instalando e Carregando Pacotes\n",
    "\n",
    "Instale o snowflake-ml-python conforme mostrado nas aulas."
   ]
  },
  {
   "cell_type": "code",
   "execution_count": null,
   "id": "a807a883-7751-418a-99a3-65d547e929e5",
   "metadata": {
    "name": "DSA03",
    "language": "python"
   },
   "outputs": [],
   "source": "# Imports\nimport streamlit as st\nimport pandas as pd\nfrom snowflake.snowpark import functions as F\nfrom snowflake.snowpark.functions import when, col\nfrom snowflake.ml.modeling.ensemble import RandomForestRegressor\nfrom snowflake.ml.modeling.metrics import mean_absolute_percentage_error\nfrom snowflake.ml.modeling.metrics import r2_score\nfrom snowflake.ml.modeling.pipeline import Pipeline\nfrom snowflake.ml.modeling.preprocessing import OneHotEncoder\nfrom snowflake.ml.registry import Registry\nimport warnings\nwarnings.filterwarnings('ignore')"
  },
  {
   "cell_type": "markdown",
   "id": "50f9f7bc-6df1-4619-ab70-afb7e5feaf75",
   "metadata": {
    "name": "DSA04"
   },
   "source": [
    "### Definindo a Sessão Snowpark"
   ]
  },
  {
   "cell_type": "code",
   "execution_count": null,
   "id": "053e0357-6859-466c-aba2-53022d540393",
   "metadata": {
    "name": "DSA05",
    "language": "python"
   },
   "outputs": [],
   "source": [
    "# Captura a sessão Snowpark\n",
    "from snowflake.snowpark.context import get_active_session\n",
    "session = get_active_session()"
   ]
  },
  {
   "cell_type": "code",
   "execution_count": null,
   "id": "84c47b49-fe98-496b-a981-d3361f2da12f",
   "metadata": {
    "name": "DSA06",
    "language": "python"
   },
   "outputs": [],
   "source": [
    "# Função para capturar informações da sessão\n",
    "def dsa_current_snowflake_env():\n",
    "    snowflake_environment = session.sql('select current_user(), current_role(), current_database(), current_schema(), current_version(), current_warehouse()').collect()\n",
    "    print('User                     : {}'.format(snowflake_environment[0][0]))\n",
    "    print('Role                     : {}'.format(snowflake_environment[0][1]))\n",
    "    print('Database                 : {}'.format(snowflake_environment[0][2]))\n",
    "    print('Schema                   : {}'.format(snowflake_environment[0][3]))\n",
    "    print('Warehouse                : {}'.format(snowflake_environment[0][5]))\n",
    "    print('Snowflake version        : {}'.format(snowflake_environment[0][4]))"
   ]
  },
  {
   "cell_type": "code",
   "execution_count": null,
   "id": "3b073ac8-a69a-4b23-a6c2-9f36961f82cd",
   "metadata": {
    "name": "DSA07",
    "language": "python"
   },
   "outputs": [],
   "source": [
    "# Executa a função\n",
    "dsa_current_snowflake_env()"
   ]
  },
  {
   "cell_type": "markdown",
   "id": "3ab0fee8-543e-48c4-ac08-62e57da27dcf",
   "metadata": {
    "name": "DSA08"
   },
   "source": [
    "### Carregando os Dados\n",
    "\n",
    "Crie database e schema e então crie uma tabela a partir do arquivo CSV."
   ]
  },
  {
   "cell_type": "code",
   "execution_count": null,
   "id": "f469046e-2782-4af1-8d14-d77578e3f12c",
   "metadata": {
    "name": "DSA09",
    "language": "python"
   },
   "outputs": [],
   "source": [
    "# Importa os dados da tabela como um dataframe\n",
    "df_dsa_dados = session.table('DSA_DATABASE.DSA_SCHEMA.DSA_TABLE')"
   ]
  },
  {
   "cell_type": "markdown",
   "id": "e3ce6acd-a221-474a-9435-a34b751200f5",
   "metadata": {
    "name": "DSA10"
   },
   "source": [
    "### Sala de Limpeza de Dados"
   ]
  },
  {
   "cell_type": "code",
   "execution_count": null,
   "id": "78f6ac61-f0af-4148-8762-c2941dd7255e",
   "metadata": {
    "name": "DSA11",
    "language": "python",
    "collapsed": false
   },
   "outputs": [],
   "source": "# Vamos gerar 2 novas colunas\ndf_dsa_dados = (\n    df_dsa_dados\n    .with_column('IDADE', 2025 - df_dsa_dados['ANO'])\n    .with_column('NUM_PORTAS', df_dsa_dados[\"PORTAS\"].substring(1,2))\n)"
  },
  {
   "cell_type": "code",
   "execution_count": null,
   "id": "5302061e-3ab2-47ef-8e90-3f1cbe72f424",
   "metadata": {
    "name": "DSA12",
    "language": "python",
    "collapsed": false
   },
   "outputs": [],
   "source": [
    "df_dsa_dados"
   ]
  },
  {
   "cell_type": "code",
   "execution_count": null,
   "id": "5d594e12-486b-4fe7-a3dc-8bf80c7de284",
   "metadata": {
    "name": "DSA13",
    "language": "python",
    "collapsed": false
   },
   "outputs": [],
   "source": "# Aplicamos filtros para limpeza inicial de dados (conforme regras de negócio definidas)\ndf_dsa_dados_clean = (\n    df_dsa_dados\n    .filter(F.col(\"KILOMETRAGEM\") <= 500000)\n    .filter(F.col(\"IDADE\") <= 20 )\n    .filter(F.col(\"TRANSMISSAO\").in_(F.lit(\"Manual\"), F.lit(\"Automatico\")) )\n    .filter(F.col(\"PRECO_VENDA\") <= 100000)\n    .filter(F.col(\"COMBUSTIVEL\").in_(F.lit(\"Gasolina\"), F.lit(\"Diesel\")) )\n)"
  },
  {
   "cell_type": "code",
   "execution_count": null,
   "id": "807a0438-5c57-44f8-9937-2480bdcd11e8",
   "metadata": {
    "name": "DSA14",
    "language": "python",
    "collapsed": false
   },
   "outputs": [],
   "source": [
    "# Drop das colunas que não serão usadas\n",
    "df_dsa_dados_clean = df_dsa_dados_clean.drop([\"PRECO\",\"POWER\"] )"
   ]
  },
  {
   "cell_type": "code",
   "execution_count": null,
   "id": "31c14e33-c849-4f7c-941c-7012f51b75ba",
   "metadata": {
    "name": "DSA15",
    "language": "python",
    "collapsed": false
   },
   "outputs": [],
   "source": [
    "# Resumo estatístico dos dados\n",
    "df_dsa_dados_clean.describe()"
   ]
  },
  {
   "cell_type": "code",
   "execution_count": null,
   "id": "389492c2-158f-4bd7-8594-58fae4e6fbd7",
   "metadata": {
    "name": "DSA16",
    "language": "python",
    "collapsed": false
   },
   "outputs": [],
   "source": [
    "# Resumo estatístico dos dados (comando alternativo)\n",
    "df_dsa_dados_clean.describe().show()"
   ]
  },
  {
   "cell_type": "code",
   "execution_count": null,
   "id": "8cc6c33a-629b-4acb-88ee-98b7b2cde7e8",
   "metadata": {
    "name": "DSA17",
    "language": "python",
    "collapsed": false
   },
   "outputs": [],
   "source": [
    "dsa_top_modelos = (\n",
    "    df_dsa_dados_clean\n",
    "    .group_by(\"MODELO\")\n",
    "    .agg(F.count(\"MODELO\").alias('N'))\n",
    "    .filter(F.col('N') > 750)\n",
    "    .withColumnRenamed('MODELO', 'MODELO2')\n",
    ")"
   ]
  },
  {
   "cell_type": "code",
   "execution_count": null,
   "id": "0c6beae9-e1f6-4943-b2a5-89e02763db6d",
   "metadata": {
    "name": "DSA18",
    "language": "python",
    "collapsed": false
   },
   "outputs": [],
   "source": [
    "dsa_top_modelos"
   ]
  },
  {
   "cell_type": "code",
   "execution_count": null,
   "id": "200bb48e-8a70-4ea6-a9eb-fec67c69e4aa",
   "metadata": {
    "name": "DSA19",
    "language": "python",
    "collapsed": false
   },
   "outputs": [],
   "source": [
    "df_dsa_dados_clean_modelos = (\n",
    "    df_dsa_dados_clean\n",
    "    .join(dsa_top_modelos, df_dsa_dados_clean[\"MODELO\"] == dsa_top_modelos[\"MODELO2\"], \"inner\")\n",
    "    .select(df_dsa_dados_clean[\"*\"])\n",
    ")"
   ]
  },
  {
   "cell_type": "code",
   "execution_count": null,
   "id": "7440d81b-ff87-4d08-9958-a566d763d7f2",
   "metadata": {
    "name": "DSA20",
    "language": "python",
    "collapsed": false
   },
   "outputs": [],
   "source": [
    "df_dsa_dados_clean_modelos.count()"
   ]
  },
  {
   "cell_type": "code",
   "execution_count": null,
   "id": "e4edc9d7-4b70-4623-9c96-f314845fe2a8",
   "metadata": {
    "name": "DSA21",
    "language": "python",
    "collapsed": false
   },
   "outputs": [],
   "source": [
    "df_dsa_dados_clean_modelos.show()"
   ]
  },
  {
   "cell_type": "code",
   "id": "a31e228d-0e84-4059-8603-412e88e3e1ca",
   "metadata": {
    "language": "python",
    "name": "DSA22",
    "collapsed": false
   },
   "outputs": [],
   "source": "# Lista de valores incorretos para cor do veículo\nvalores_incorretos = [\"2-portas\", \"3-portas\", \"4-portas\", \"5-portas\", \"6-portas\"]\n\n# Substitui o valor da lista por None\ndf_dsa_dados_clean_modelos = df_dsa_dados_clean_modelos.withColumn(\n    \"COR\",\n    when(col(\"COR\").isin(valores_incorretos), None).otherwise(col(\"COR\"))\n)",
   "execution_count": null
  },
  {
   "cell_type": "code",
   "id": "b58a2cd7-8e36-4cc7-8389-b86043cada85",
   "metadata": {
    "language": "python",
    "name": "DSA23"
   },
   "outputs": [],
   "source": "# NA pode ser uma string mesmo e não apenas ausência de dado, e por isso pode ser necessário remover de forma explícita.\ndf_dsa_dados_clean_modelos = df_dsa_dados_clean_modelos.filter(col(\"COR\") != \"NA\")",
   "execution_count": null
  },
  {
   "cell_type": "code",
   "id": "48e6ff81-b418-4a8c-8d97-a907c5397ad6",
   "metadata": {
    "language": "python",
    "name": "DSA24",
    "collapsed": false
   },
   "outputs": [],
   "source": "# Drop NA \ndf_dsa_dados_clean_modelos = df_dsa_dados_clean_modelos.dropna()",
   "execution_count": null
  },
  {
   "cell_type": "code",
   "execution_count": null,
   "id": "bc2d4b38-610e-40f4-817f-20b8cc5d8265",
   "metadata": {
    "name": "DSA25",
    "language": "python",
    "collapsed": false
   },
   "outputs": [],
   "source": [
    "# Lista de colunas categóricas\n",
    "colunas_categoricas = [\"MODELO\", \"COMBUSTIVEL\", \"TRANSMISSAO\", \"COR\"]"
   ]
  },
  {
   "cell_type": "code",
   "execution_count": null,
   "id": "c31361e0-1b1c-4bcd-8b1c-796f99b36f4e",
   "metadata": {
    "name": "DSA26",
    "language": "python",
    "collapsed": false
   },
   "outputs": [],
   "source": [
    "# Lista de colunas categóricas para aplicar One Hot Encoder\n",
    "colunas_categoricas_ohe = [\"MODELO_OE\" ,\"COMBUSTIVEL_OE\", \"TRANSMISSAO_OE\", \"COR_OE\"]"
   ]
  },
  {
   "cell_type": "code",
   "execution_count": null,
   "id": "389e78e2-7614-41c2-91d1-176337541dfa",
   "metadata": {
    "name": "DSA27",
    "language": "python",
    "collapsed": false
   },
   "outputs": [],
   "source": [
    "# Colunas numéricas\n",
    "colunas_numericas = ['IDADE', 'KILOMETRAGEM']"
   ]
  },
  {
   "cell_type": "code",
   "execution_count": null,
   "id": "8704aeca-8be8-462d-a3dc-62b7acafcaa5",
   "metadata": {
    "name": "DSA28",
    "language": "python",
    "collapsed": false
   },
   "outputs": [],
   "source": [
    "# Variável alvo e coluna para receber a previsão do modelo\n",
    "coluna_target = ['PRECO_VENDA']\n",
    "coluna_previsao = ['PRECO_PREVISTO']"
   ]
  },
  {
   "cell_type": "code",
   "execution_count": null,
   "id": "6a5cb706-49b2-41e1-bf39-aee21c1e022e",
   "metadata": {
    "name": "DSA29",
    "language": "python",
    "collapsed": false
   },
   "outputs": [],
   "source": [
    "# Prepara o dataframe para treinar o modelo\n",
    "df_dsa_dados_limpos_ml = (df_dsa_dados_clean_modelos.select(colunas_categoricas + colunas_numericas + coluna_target))"
   ]
  },
  {
   "cell_type": "code",
   "execution_count": null,
   "id": "6d418161-ba4a-430f-bde9-06e7d2668068",
   "metadata": {
    "name": "DSA30",
    "language": "python",
    "collapsed": false
   },
   "outputs": [],
   "source": [
    "df_dsa_dados_limpos_ml"
   ]
  },
  {
   "cell_type": "code",
   "execution_count": null,
   "id": "51f07582-4870-4cd0-b2e5-cd9456da2877",
   "metadata": {
    "name": "DSA31",
    "language": "python",
    "collapsed": false
   },
   "outputs": [],
   "source": [
    "# Divisão dos dados em treino e teste\n",
    "df_treino, df_teste = df_dsa_dados_limpos_ml.random_split(weights = [0.80, 0.20], seed = 0) "
   ]
  },
  {
   "cell_type": "markdown",
   "id": "8b0ca3df-21c9-4ae0-a8cb-10e75e0ce64a",
   "metadata": {
    "name": "DSA32"
   },
   "source": [
    "### Criação do Modelo"
   ]
  },
  {
   "cell_type": "code",
   "execution_count": null,
   "id": "8102a553-573a-4b5e-85a9-354439409d31",
   "metadata": {
    "name": "DSA33",
    "language": "python",
    "collapsed": false
   },
   "outputs": [],
   "source": [
    "# Criação do modelo\n",
    "modelo_dsa = RandomForestRegressor(n_estimators = 250, \n",
    "                                   max_depth = 6,\n",
    "                                   n_jobs = -1,\n",
    "                                   min_samples_split = 500,\n",
    "                                   min_samples_leaf = 500,\n",
    "                                   label_cols = coluna_target,\n",
    "                                   output_cols = coluna_previsao)"
   ]
  },
  {
   "cell_type": "markdown",
   "id": "38413062-e8b2-4c6a-824f-5f5046436409",
   "metadata": {
    "name": "DSA34"
   },
   "source": [
    "### Pipeline com Machine Learning e Resultado da Sala de Limpeza"
   ]
  },
  {
   "cell_type": "code",
   "execution_count": null,
   "id": "973cf587-1d52-42e3-a31e-a67e8941c99e",
   "metadata": {
    "name": "DSA35",
    "language": "python",
    "collapsed": false
   },
   "outputs": [],
   "source": "# Criação do pipeline\ndsa_ml_pipe = Pipeline(\n    steps = [\n        (\n            \"ohe\", \n            OneHotEncoder(\n                input_cols = colunas_categoricas, \n                output_cols = colunas_categoricas_ohe, \n                drop_input_cols = True\n            )\n        ),\n        (\n            \"modelo_dsa\",\n            modelo_dsa\n        )\n    ]\n)"
  },
  {
   "cell_type": "code",
   "execution_count": null,
   "id": "a63b8f18-d436-44ca-8dd1-63b1e6a2d5f6",
   "metadata": {
    "name": "DSA36",
    "language": "python",
    "collapsed": false
   },
   "outputs": [],
   "source": "dsa_ml_pipe"
  },
  {
   "cell_type": "markdown",
   "id": "df27d42d-41f9-4f6e-9a94-a1b474a089ee",
   "metadata": {
    "name": "DSA37"
   },
   "source": [
    "### Treinamento do Modelo"
   ]
  },
  {
   "cell_type": "code",
   "execution_count": null,
   "id": "9f74c170-f2bd-43c9-a65a-212711c3a3d1",
   "metadata": {
    "name": "DSA38",
    "language": "python",
    "collapsed": false
   },
   "outputs": [],
   "source": "# Treina o modelo e salva o output\ndf_treino_out = dsa_ml_pipe.fit_predict(df_treino)"
  },
  {
   "cell_type": "code",
   "execution_count": null,
   "id": "bec0dfba-826c-47a5-a2e9-9b2a0f8402d8",
   "metadata": {
    "name": "DSA39",
    "language": "python",
    "collapsed": false
   },
   "outputs": [],
   "source": [
    "# Visualiza\n",
    "df_treino_out.show()"
   ]
  },
  {
   "cell_type": "markdown",
   "id": "c792d2a3-97b8-4c87-9207-ac41489100f5",
   "metadata": {
    "name": "DSA40"
   },
   "source": [
    "### Avaliação do Modelo"
   ]
  },
  {
   "cell_type": "code",
   "execution_count": null,
   "id": "c953f0d3-da09-4406-b22f-6ae2232cbdda",
   "metadata": {
    "name": "DSA41",
    "language": "python",
    "collapsed": false
   },
   "outputs": [],
   "source": "# Previsões com dados de teste\ndf_teste_out = dsa_ml_pipe.predict(df_teste)"
  },
  {
   "cell_type": "code",
   "execution_count": null,
   "id": "abfee04b-99aa-474f-b119-a517ff0a9b29",
   "metadata": {
    "name": "DSA42",
    "language": "python",
    "collapsed": false
   },
   "outputs": [],
   "source": [
    "# Calcula a métrica MAPE\n",
    "mape = mean_absolute_percentage_error(df = df_teste_out, \n",
    "                                      y_true_col_names = \"PRECO_VENDA\", \n",
    "                                      y_pred_col_names = \"PRECO_PREVISTO\")"
   ]
  },
  {
   "cell_type": "code",
   "execution_count": null,
   "id": "72577604-7a64-4a6e-8f4f-714ea4a1db20",
   "metadata": {
    "name": "DSA43",
    "language": "python",
    "collapsed": false
   },
   "outputs": [],
   "source": [
    "print(mape)"
   ]
  },
  {
   "cell_type": "code",
   "execution_count": null,
   "id": "e8461dd5-95b8-4aec-8c57-b55bdbdee861",
   "metadata": {
    "name": "DSA44",
    "language": "python",
    "collapsed": false
   },
   "outputs": [],
   "source": [
    "# Calcula a métrica R2 Score\n",
    "r2 = r2_score(df = df_teste_out, \n",
    "              y_true_col_name = \"PRECO_VENDA\", \n",
    "              y_pred_col_name = \"PRECO_PREVISTO\")"
   ]
  },
  {
   "cell_type": "code",
   "execution_count": null,
   "id": "c10443a2-08bf-4467-ab31-d27dbd98ae93",
   "metadata": {
    "name": "DSA45",
    "language": "python",
    "collapsed": false
   },
   "outputs": [],
   "source": [
    "print(r2)"
   ]
  },
  {
   "cell_type": "markdown",
   "id": "222de406-5f06-471d-ad90-07a826e3bb15",
   "metadata": {
    "name": "DSA46",
    "collapsed": false
   },
   "source": [
    "### App Para Testar o Modelo"
   ]
  },
  {
   "cell_type": "code",
   "execution_count": null,
   "id": "3be2a016-c52c-449c-be40-ba772cd41277",
   "metadata": {
    "name": "DSA47",
    "language": "python",
    "collapsed": false
   },
   "outputs": [],
   "source": [
    "# Registra o modelo\n",
    "reg = Registry(session = session, database_name = \"DSA_DATABASE\", schema_name = \"DSA_SCHEMA\")"
   ]
  },
  {
   "cell_type": "code",
   "execution_count": null,
   "id": "7bf5aaf6-9375-433e-8551-d04af90b7187",
   "metadata": {
    "name": "DSA48",
    "language": "python",
    "collapsed": false
   },
   "outputs": [],
   "source": [
    "reg"
   ]
  },
  {
   "cell_type": "code",
   "execution_count": null,
   "id": "1259d2fe-552c-48ca-8c3b-a3100a6969d5",
   "metadata": {
    "name": "DSA49",
    "language": "python",
    "collapsed": false
   },
   "outputs": [],
   "source": "# Registra a versão do modelo\nmodelo_versao = reg.log_model(dsa_ml_pipe,\n                              model_name = \"modelo_dsa_deploy\",\n                              version_name = \"v1\",\n                              comment = \"Modelo DSA\")"
  },
  {
   "cell_type": "code",
   "execution_count": null,
   "id": "a5f2a03c-512d-4a8e-84f3-30cf2bf4cc6d",
   "metadata": {
    "name": "DSA50",
    "language": "python",
    "collapsed": false
   },
   "outputs": [],
   "source": "modelo_versao"
  },
  {
   "cell_type": "code",
   "execution_count": null,
   "id": "632613d8-bd41-4397-b3d7-e94fd4a5c897",
   "metadata": {
    "name": "DSA51",
    "language": "python",
    "collapsed": false
   },
   "outputs": [],
   "source": "# Previsões com o modelo\nprevisoes = modelo_versao.run(df_dsa_dados_limpos_ml, function_name = \"predict\")"
  },
  {
   "cell_type": "code",
   "execution_count": null,
   "id": "3efbd78b-4879-460a-8bcb-b6ba93a51042",
   "metadata": {
    "name": "DSA52",
    "language": "python",
    "collapsed": false
   },
   "outputs": [],
   "source": "# Visualiza\nprevisoes.show()"
  },
  {
   "cell_type": "code",
   "execution_count": null,
   "id": "9f2ed915-d438-4288-958a-6a7fa31749c1",
   "metadata": {
    "name": "DSA53",
    "language": "python",
    "collapsed": false
   },
   "outputs": [],
   "source": "# Salva a tabela com as previsões\ndf_dsa_dados_limpos_ml.write.mode(\"overwrite\").save_as_table(\"DSA_DATABASE.DSA_SCHEMA.DSA_PREVISOES\")"
  },
  {
   "cell_type": "code",
   "id": "e2d408a0-c2ba-4802-9427-89e6c397654f",
   "metadata": {
    "language": "sql",
    "name": "DSA54",
    "collapsed": false
   },
   "outputs": [],
   "source": "SELECT * FROM DSA_DATABASE.DSA_SCHEMA.DSA_PREVISOES",
   "execution_count": null
  },
  {
   "cell_type": "markdown",
   "id": "2af2a874-9a27-4e4e-9f03-754b91556f95",
   "metadata": {
    "name": "DSA55",
    "collapsed": false
   },
   "source": "### App Para Usar o Pipeline de Machine Learning"
  },
  {
   "cell_type": "code",
   "id": "dc9428ba-27de-44bb-aba6-05009e71a09a",
   "metadata": {
    "language": "python",
    "name": "DSA56"
   },
   "outputs": [],
   "source": "# Extrai a lista de modelos\ndsa_top_modelos_lista = dsa_top_modelos.to_pandas().MODELO2.values",
   "execution_count": null
  },
  {
   "cell_type": "code",
   "id": "99fe487e-315b-4823-9e86-820983f9151c",
   "metadata": {
    "language": "python",
    "name": "DSA57",
    "collapsed": false
   },
   "outputs": [],
   "source": "# Cria a app com Streamlit\n\n# Define as colunas\nc1,c2,c3 = st.columns(3)\nwith c2:\n    IDADE = st.number_input(\"IDADE\",0,20,2)\n    COMBUSTIVEL = st.selectbox(\"COMBUSTIVEL\", [ \"Gasolina\", \"Diesel\"])\nwith c3:\n    KILOMETRAGEM = st.number_input(\"KILOMETRAGEM\",15000)\n    TRANSMISSAO = st.selectbox(\"TRANSMISSAO\",[\"Manual\", \"Automatico\"])\nwith c1:\n    MODELO = st.selectbox(\"MODELO\", dsa_top_modelos_lista)\n    COR = st.selectbox(\"COR\", [ \"Preto\", \"Branco\"])\n\n# Divider\nst.divider()\n\n# Prepara o dataframe com dados de um novo carro\nnovo_carro = pd.DataFrame({\n    \"MODELO\": [MODELO],\n    \"IDADE\" : [IDADE],\n    \"KILOMETRAGEM\": [KILOMETRAGEM],\n    \"TRANSMISSAO\" :[TRANSMISSAO],\n    \"COMBUSTIVEL\" : [COMBUSTIVEL],\n    \"COR\" : [COR]\n})\n\n# Converte o dataframe do pandas em dataframe do Snowpark\nnovo_carro_df = session.create_dataframe(novo_carro)\n\n# Faz previsões com o ml_pipeline e seleciona a coluna de previsão\ndsa_ml_pipe.predict(novo_carro_df).select(\"PRECO_PREVISTO\")",
   "execution_count": null
  },
  {
   "cell_type": "markdown",
   "id": "6feaf032-5c48-482c-bc85-9adb620679df",
   "metadata": {
    "name": "DSA58"
   },
   "source": [
    "# Fim"
   ]
  }
 ]
}